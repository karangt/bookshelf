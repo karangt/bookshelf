{
 "cells": [
  {
   "cell_type": "markdown",
   "metadata": {},
   "source": [
    "# Real Bookshelf to Virtual Bookshelf 📚\n",
    "\n",
    "This application takes an image of a real life bookshelf and generates a digital list of books, along with a Google Books link for each of them.\n",
    "\n",
    "[GitHub Repo](https://github.com/karangt/bookshelf)\n",
    "\n",
    "\n",
    "**Usage**\n",
    "- Please wait for the app to load.\n",
    "- Select or upload an image and then click on the 'Process Image' button below.  \n",
    "- The uploaded image should be similar to the demo images i.e. of a single bookshelf and without tilted books\n",
    "\n",
    "\n",
    "Karan Gupta \n",
    "\n",
    "***"
   ]
  },
  {
   "cell_type": "code",
   "execution_count": 26,
   "metadata": {
    "execution": {
     "iopub.execute_input": "2020-05-08T16:29:40.985856Z",
     "iopub.status.busy": "2020-05-08T16:29:40.985307Z",
     "iopub.status.idle": "2020-05-08T16:29:40.994442Z",
     "shell.execute_reply": "2020-05-08T16:29:40.993102Z",
     "shell.execute_reply.started": "2020-05-08T16:29:40.985808Z"
    }
   },
   "outputs": [],
   "source": [
    "# Run this app using the following command:\n",
    "#\n",
    "# voila app.ipynb"
   ]
  },
  {
   "cell_type": "code",
   "execution_count": 27,
   "metadata": {
    "execution": {
     "iopub.execute_input": "2020-05-08T16:29:41.446310Z",
     "iopub.status.busy": "2020-05-08T16:29:41.445935Z",
     "iopub.status.idle": "2020-05-08T16:29:41.481780Z",
     "shell.execute_reply": "2020-05-08T16:29:41.480796Z",
     "shell.execute_reply.started": "2020-05-08T16:29:41.446274Z"
    }
   },
   "outputs": [
    {
     "name": "stdout",
     "output_type": "stream",
     "text": [
      "The autoreload extension is already loaded. To reload it, use:\n",
      "  %reload_ext autoreload\n"
     ]
    }
   ],
   "source": [
    "import cv2\n",
    "import ipywidgets as widgets\n",
    "import numpy as np\n",
    "\n",
    "\n",
    "%load_ext autoreload\n",
    "%autoreload 1\n",
    "%aimport utils\n",
    "%aimport segment\n",
    "%aimport gocr\n",
    "%aimport east"
   ]
  },
  {
   "cell_type": "code",
   "execution_count": 28,
   "metadata": {
    "execution": {
     "iopub.execute_input": "2020-05-08T16:29:41.988511Z",
     "iopub.status.busy": "2020-05-08T16:29:41.988185Z",
     "iopub.status.idle": "2020-05-08T16:29:42.008218Z",
     "shell.execute_reply": "2020-05-08T16:29:42.005363Z",
     "shell.execute_reply.started": "2020-05-08T16:29:41.988449Z"
    }
   },
   "outputs": [],
   "source": [
    "# Load the initial files\n",
    "\n",
    "startImagePath = \"images/bookshelf3a.jpeg\"\n",
    "\n",
    "# For processing\n",
    "#IMG = cv2.imread(startImagePath)\n",
    "\n",
    "# For displaying\n",
    "file = open(startImagePath,\"rb\")\n",
    "startImage = file.read()\n",
    "\n",
    "# Placeholder image\n",
    "file2 = open(\"images/placeholder.jpg\",\"rb\")\n",
    "phImage = file2.read()\n",
    "\n"
   ]
  },
  {
   "cell_type": "code",
   "execution_count": 29,
   "metadata": {
    "execution": {
     "iopub.execute_input": "2020-05-08T16:29:42.017007Z",
     "iopub.status.busy": "2020-05-08T16:29:42.016659Z",
     "iopub.status.idle": "2020-05-08T16:29:42.056623Z",
     "shell.execute_reply": "2020-05-08T16:29:42.045933Z",
     "shell.execute_reply.started": "2020-05-08T16:29:42.016971Z"
    }
   },
   "outputs": [],
   "source": [
    "def on_rbutton_change(change):\n",
    "    '''\n",
    "    Triggered when radio button state is changed\n",
    "    '''\n",
    "    \n",
    "    selection = change[\"new\"]\n",
    "    \n",
    "    mapping = {\"Demo 1\":\"images/bookshelf3a.jpeg\",\n",
    "               \"Demo 2\":\"images/bookshelf3b.jpeg\",\n",
    "               \"Demo 3\":\"images/Good-Book-Spines.jpg\"}\n",
    "    \n",
    "    # Reset the output and segOutput widgets\n",
    "    output.clear_output()\n",
    "    bookInfoOutput.value =''\n",
    "    display(bookInfoOutput)\n",
    "    \n",
    "    segOutput.value = phImage\n",
    "    display(segOutput)\n",
    "    \n",
    "    # Update status widget\n",
    "    status.clear_output()\n",
    "    with status: print(\"Updating image..\")\n",
    "        \n",
    "    if selection in [\"Demo 1\",\"Demo 2\",\"Demo 3\"]:\n",
    "        # Disable the uploader\n",
    "        uploader.disabled = True\n",
    "        display(uploader)\n",
    "        \n",
    "        # Display the image\n",
    "        file = open(mapping[selection],\"rb\")\n",
    "        tempImage = file.read()\n",
    "        imgDisplay.value = tempImage\n",
    "        display(imgDisplay)\n",
    "        # Enable processing button\n",
    "        button.disabled = False\n",
    "        display(button)\n",
    "        \n",
    "        status.clear_output()\n",
    "        with status: print(\"Image updated! Click 'Process Image'\")\n",
    "\n",
    "    else: # upload\n",
    "        # Enable the uploader\n",
    "        uploader.disabled = False\n",
    "        display(uploader)\n",
    "        # Disable processing button\n",
    "        button.disabled = True\n",
    "        display(button)\n",
    "        # Remove image\n",
    "        imgDisplay.value=phImage\n",
    "        display(imgDisplay)\n",
    "        \n",
    "        status.clear_output()\n",
    "        with status: print(\"Select an image and wait for the 'Image Uploaded' message.\")\n"
   ]
  },
  {
   "cell_type": "code",
   "execution_count": 30,
   "metadata": {
    "execution": {
     "iopub.execute_input": "2020-05-08T16:29:42.952964Z",
     "iopub.status.busy": "2020-05-08T16:29:42.952527Z",
     "iopub.status.idle": "2020-05-08T16:29:42.991417Z",
     "shell.execute_reply": "2020-05-08T16:29:42.990428Z",
     "shell.execute_reply.started": "2020-05-08T16:29:42.952932Z"
    }
   },
   "outputs": [],
   "source": [
    "# Set up uploader events\n",
    "def on_upload(change):\n",
    "    '''\n",
    "    Triggered when image is uploaded\n",
    "    '''\n",
    "    for v in uploader.value.values():\n",
    "        \n",
    "        imgDisplay.value=v[\"content\"]\n",
    "        display(imgDisplay)\n",
    "        # Enable processing button\n",
    "        button.disabled = False\n",
    "        display(button)\n",
    "        \n",
    "        status.clear_output()\n",
    "        with status: print(\"Image uploaded! Click 'Process Image'\")\n",
    "        break"
   ]
  },
  {
   "cell_type": "code",
   "execution_count": 31,
   "metadata": {
    "execution": {
     "iopub.execute_input": "2020-05-08T16:29:42.996461Z",
     "iopub.status.busy": "2020-05-08T16:29:42.995839Z",
     "iopub.status.idle": "2020-05-08T16:29:43.033297Z",
     "shell.execute_reply": "2020-05-08T16:29:43.027088Z",
     "shell.execute_reply.started": "2020-05-08T16:29:42.996432Z"
    }
   },
   "outputs": [],
   "source": [
    "def getHTMLTable(booksInfo):\n",
    "    # CSS style generated using https://divtable.com/table-styler/\n",
    "    html='''\n",
    "    <style type=\"text/css\">\n",
    "        table.minimalistBlack {\n",
    "          border: 1px solid #000000;\n",
    "          width: 100%;\n",
    "          text-align: left;\n",
    "          border-collapse: collapse;\n",
    "        }\n",
    "        table.minimalistBlack td, table.minimalistBlack th {\n",
    "          border: 1px solid #000000;\n",
    "          padding: 4px 4px;\n",
    "        }\n",
    "        table.minimalistBlack tbody td {\n",
    "          font-size: 13px;\n",
    "        }\n",
    "        table.minimalistBlack thead {\n",
    "          background: #CFCFCF;\n",
    "          background: -moz-linear-gradient(top, #dbdbdb 0%, #d3d3d3 66%, #CFCFCF 100%);\n",
    "          background: -webkit-linear-gradient(top, #dbdbdb 0%, #d3d3d3 66%, #CFCFCF 100%);\n",
    "          background: linear-gradient(to bottom, #dbdbdb 0%, #d3d3d3 66%, #CFCFCF 100%);\n",
    "          border-bottom: 2px solid #000000;\n",
    "        }\n",
    "        table.minimalistBlack thead th {\n",
    "          font-size: 15px;\n",
    "          font-weight: bold;\n",
    "          color: #000000;\n",
    "          text-align: left;\n",
    "        }\n",
    "        table.minimalistBlack tfoot td {\n",
    "          font-size: 14px;\n",
    "        }\n",
    "    </style>\n",
    "    \n",
    "    <table class=\"minimalistBlack\">\n",
    "        <tr>\n",
    "            <th>SN</th>\n",
    "            <th>Title</th>\n",
    "            <th>Author</th>\n",
    "            <th>Google Link</th>\n",
    "            <th>GoodReads Link</th>\n",
    "            <th>OCR Text</th>\n",
    "        </tr>\n",
    "        '''\n",
    "    i=1\n",
    "    for b in booksInfo:\n",
    "        html += '''\n",
    "        <tr>\n",
    "            <td>{}</td>\n",
    "            <td>{}</td>\n",
    "            <td>{}</td>\n",
    "            <td><a href=\"{}\" target=\"_blank\">Link</a></td>\n",
    "            <td><a href=\"{}\" target=\"_blank\">Link</a><br/></td>\n",
    "            <td>{}</td>\n",
    "        </tr>\n",
    "        '''.format(i,b[\"title\"],b[\"author\"],b[\"google_link\"],b[\"goodreads_link\"],b[\"query\"])\n",
    "        i+=1\n",
    "    html+=\"</table>\"\n",
    "    return html"
   ]
  },
  {
   "cell_type": "code",
   "execution_count": 32,
   "metadata": {
    "execution": {
     "iopub.execute_input": "2020-05-08T16:29:43.057975Z",
     "iopub.status.busy": "2020-05-08T16:29:43.057426Z",
     "iopub.status.idle": "2020-05-08T16:29:43.079788Z",
     "shell.execute_reply": "2020-05-08T16:29:43.076873Z",
     "shell.execute_reply.started": "2020-05-08T16:29:43.057934Z"
    }
   },
   "outputs": [],
   "source": [
    "\n",
    "def processImage(img,path):\n",
    "    im_eq = utils.imgPreprocess(img)\n",
    "    with output: print(\"Detecting text ...\")\n",
    "    frame, framev, boxes, indices = east.detectText(im_eq,0.5,0.3)\n",
    "    with output: print(\"Segmenting books ...\")\n",
    "    sboxes = segment.getSortedBoxes(boxes,indices,0.1)\n",
    "    sboxes = segment.trimBoxes(frame,sboxes)\n",
    "    bookList = segment.boxesToBooks(sboxes, debug=True)\n",
    "    bookImages = segment.getBookImages(frame,bookList,padY=frame.shape[0])\n",
    "    with output: print(\"Displaying segmented books ...\")\n",
    "    segment.showSegmentedBooks(bookImages,path)\n",
    "   \n",
    "    file = open(path,\"rb\")\n",
    "    dispImage = file.read()\n",
    "    segOutput.value = dispImage\n",
    "    display(segOutput)\n",
    "    \n",
    "    with output: print(\"Getting book links (please wait) ...\")\n",
    "    \n",
    "    booksInfo = gocr.getAllBookLinks(bookImages)\n",
    "    \n",
    "    bookInfoOutput.value = getHTMLTable(booksInfo)\n",
    "    display(bookInfoOutput)\n",
    "    return"
   ]
  },
  {
   "cell_type": "code",
   "execution_count": 33,
   "metadata": {
    "execution": {
     "iopub.execute_input": "2020-05-08T16:29:43.082073Z",
     "iopub.status.busy": "2020-05-08T16:29:43.081777Z",
     "iopub.status.idle": "2020-05-08T16:29:43.096098Z",
     "shell.execute_reply": "2020-05-08T16:29:43.094593Z",
     "shell.execute_reply.started": "2020-05-08T16:29:43.082038Z"
    }
   },
   "outputs": [],
   "source": [
    "# getHTMLTable([{\"title\":\"test1\",\"google_link\":\"http://test.com\",\"goodreads_link\":\"http://goodreads.com\"},\n",
    "#               {\"title\":\"test2\",\"google_link\":\"http://test.com\",\"goodreads_link\":\"http://goodreads.com\"}\n",
    "#              ])"
   ]
  },
  {
   "cell_type": "code",
   "execution_count": 34,
   "metadata": {
    "execution": {
     "iopub.execute_input": "2020-05-08T16:29:44.493794Z",
     "iopub.status.busy": "2020-05-08T16:29:44.490088Z",
     "iopub.status.idle": "2020-05-08T16:29:44.514228Z",
     "shell.execute_reply": "2020-05-08T16:29:44.508451Z",
     "shell.execute_reply.started": "2020-05-08T16:29:44.493759Z"
    }
   },
   "outputs": [],
   "source": [
    "def on_button_clicked(change):\n",
    "    button.disabled = True\n",
    "    display(button)\n",
    "    \n",
    "    img = cv2.imdecode(np.frombuffer(imgDisplay.value, np.uint8), -1)\n",
    "    processImage(img,\"images/tmp/seg_output.png\")\n",
    "    \n",
    "    button.disabled = False\n",
    "    display(button)\n",
    "    \n",
    "    with output: print(\"✅ DONE! Scroll down ⬇\")"
   ]
  },
  {
   "cell_type": "markdown",
   "metadata": {},
   "source": [
    "## Input"
   ]
  },
  {
   "cell_type": "code",
   "execution_count": 39,
   "metadata": {
    "execution": {
     "iopub.execute_input": "2020-05-08T17:06:15.326757Z",
     "iopub.status.busy": "2020-05-08T17:06:15.326526Z",
     "iopub.status.idle": "2020-05-08T17:06:15.452953Z",
     "shell.execute_reply": "2020-05-08T17:06:15.451893Z",
     "shell.execute_reply.started": "2020-05-08T17:06:15.326734Z"
    }
   },
   "outputs": [
    {
     "data": {
      "application/vnd.jupyter.widget-view+json": {
       "model_id": "2a0974c80bc743c4a3f2343bcc1d8ae6",
       "version_major": 2,
       "version_minor": 0
      },
      "text/plain": [
       "RadioButtons(description='Image', layout=Layout(width='max-content'), options=('Demo 1', 'Demo 2', 'Demo 3', '…"
      ]
     },
     "metadata": {},
     "output_type": "display_data"
    },
    {
     "data": {
      "application/vnd.jupyter.widget-view+json": {
       "model_id": "56085077dd844b478524d91386066a1c",
       "version_major": 2,
       "version_minor": 0
      },
      "text/plain": [
       "Output()"
      ]
     },
     "metadata": {},
     "output_type": "display_data"
    },
    {
     "data": {
      "application/vnd.jupyter.widget-view+json": {
       "model_id": "4ad932aae5c24d7993500e0a11093d33",
       "version_major": 2,
       "version_minor": 0
      },
      "text/plain": [
       "FileUpload(value={}, accept='image/*', description='Upload', disabled=True)"
      ]
     },
     "metadata": {},
     "output_type": "display_data"
    },
    {
     "data": {
      "application/vnd.jupyter.widget-view+json": {
       "model_id": "03735e0d1b824e429caf4e9abb3c5ad7",
       "version_major": 2,
       "version_minor": 0
      },
      "text/plain": [
       "Image(value=b'\\xff\\xd8\\xff\\xe0\\x00\\x10JFIF\\x00\\x01\\x01\\x00\\x00`\\x00`\\x00\\x00\\xff\\xe1\\x00\\x8cExif\\x00\\x00MM\\x00…"
      ]
     },
     "metadata": {},
     "output_type": "display_data"
    }
   ],
   "source": [
    "# Setup and display all the widgets\n",
    "uploader = widgets.FileUpload( accept='image/*', multiple=False, disabled=True)\n",
    "imgDisplay = widgets.Image(value= startImage, width=400)\n",
    "rbutton = widgets.RadioButtons(\n",
    "    options=['Demo 1','Demo 2','Demo 3', 'Upload'],\n",
    "    description='Image',\n",
    "    disabled=False,\n",
    "    layout={'width': 'max-content'}\n",
    ")\n",
    "button = widgets.Button(\n",
    "    description='Process Image',\n",
    "    disabled=False,\n",
    "    button_style='info', # 'success', 'info', 'warning', 'danger' or ''\n",
    "    tooltip='Process the image to create a list of books',\n",
    ")\n",
    "status = widgets.Output()\n",
    "output = widgets.Output()\n",
    "segOutput = widgets.Image(width=800,value=phImage)\n",
    "bookInfoOutput = widgets.HTML()\n",
    "loadingGif = widgets.Image(width=10)\n",
    "\n",
    "\n",
    "display(rbutton,status,uploader,imgDisplay)\n",
    "\n",
    "rbutton.observe(on_rbutton_change,\"value\")\n",
    "button.on_click(on_button_clicked)\n",
    "uploader.observe(on_upload, names='value')"
   ]
  },
  {
   "cell_type": "code",
   "execution_count": 41,
   "metadata": {
    "execution": {
     "iopub.execute_input": "2020-05-08T17:06:34.492808Z",
     "iopub.status.busy": "2020-05-08T17:06:34.492560Z",
     "iopub.status.idle": "2020-05-08T17:06:34.502291Z",
     "shell.execute_reply": "2020-05-08T17:06:34.501509Z",
     "shell.execute_reply.started": "2020-05-08T17:06:34.492784Z"
    }
   },
   "outputs": [
    {
     "data": {
      "application/vnd.jupyter.widget-view+json": {
       "model_id": "54db9af3001e48cea10e3e3c48bac914",
       "version_major": 2,
       "version_minor": 0
      },
      "text/plain": [
       "Button(button_style='info', description='Process Image', style=ButtonStyle(), tooltip='Process the image to cr…"
      ]
     },
     "metadata": {},
     "output_type": "display_data"
    }
   ],
   "source": [
    "display(button)"
   ]
  },
  {
   "cell_type": "markdown",
   "metadata": {},
   "source": [
    "***\n",
    "## Processing Results"
   ]
  },
  {
   "cell_type": "code",
   "execution_count": 37,
   "metadata": {
    "execution": {
     "iopub.execute_input": "2020-05-08T16:29:50.719582Z",
     "iopub.status.busy": "2020-05-08T16:29:50.719325Z",
     "iopub.status.idle": "2020-05-08T16:29:50.734685Z",
     "shell.execute_reply": "2020-05-08T16:29:50.733179Z",
     "shell.execute_reply.started": "2020-05-08T16:29:50.719554Z"
    }
   },
   "outputs": [
    {
     "data": {
      "application/vnd.jupyter.widget-view+json": {
       "model_id": "1f30914959ff4f1e914b068a1db25aa3",
       "version_major": 2,
       "version_minor": 0
      },
      "text/plain": [
       "Output()"
      ]
     },
     "metadata": {},
     "output_type": "display_data"
    },
    {
     "data": {
      "application/vnd.jupyter.widget-view+json": {
       "model_id": "703996fe2303495781a12e8997ad358a",
       "version_major": 2,
       "version_minor": 0
      },
      "text/plain": [
       "Image(value=b'\\xff\\xd8\\xff\\xe0\\x00\\x10JFIF\\x00\\x01\\x01\\x00\\x00`\\x00`\\x00\\x00\\xff\\xe1\\x00\\x8cExif\\x00\\x00MM\\x00…"
      ]
     },
     "metadata": {},
     "output_type": "display_data"
    },
    {
     "data": {
      "application/vnd.jupyter.widget-view+json": {
       "model_id": "4bc8db6626b841988d315775766e7d6c",
       "version_major": 2,
       "version_minor": 0
      },
      "text/plain": [
       "HTML(value='')"
      ]
     },
     "metadata": {},
     "output_type": "display_data"
    }
   ],
   "source": [
    "display(output,segOutput,bookInfoOutput)"
   ]
  },
  {
   "cell_type": "code",
   "execution_count": null,
   "metadata": {},
   "outputs": [],
   "source": []
  }
 ],
 "metadata": {
  "kernelspec": {
   "display_name": "Python 3.7.6 64-bit (conda)",
   "language": "python",
   "name": "python37664bitconda521e7985a7604864ad9f03d1b7afe207"
  },
  "language_info": {
   "codemirror_mode": {
    "name": "ipython",
    "version": 3
   },
   "file_extension": ".py",
   "mimetype": "text/x-python",
   "name": "python",
   "nbconvert_exporter": "python",
   "pygments_lexer": "ipython3",
   "version": "3.7.6"
  }
 },
 "nbformat": 4,
 "nbformat_minor": 4
}
